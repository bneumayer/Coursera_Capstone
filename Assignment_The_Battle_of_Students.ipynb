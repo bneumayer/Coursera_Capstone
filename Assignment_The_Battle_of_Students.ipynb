{
 "cells": [
  {
   "cell_type": "markdown",
   "metadata": {},
   "source": [
    "# The Battle of Students"
   ]
  },
  {
   "cell_type": "markdown",
   "metadata": {},
   "source": [
    "## Table of contents\n",
    "* [Introduction](#introduction)\n",
    "* [Data](#data)\n",
    "* [Methodology](#methodology)\n",
    " * [Map of Starting Situation](#methodology-start)\n",
    " * [Merge Data](#methodology-data)\n",
    " * [Foursquare](#methodology-foursquare)\n",
    " * [Exploratory Data Analysis](#methodology-analysis)\n",
    "* [Results](#results)\n",
    "* [Discussion and Conclusions](#conclusions)\n",
    "\n",
    "**Note:** The final report of this project can be found [here](https://github.com/bneumayer/Coursera_Capstone/blob/master/tex/Assignment_The_Battle_of_Students_Final.pdf)."
   ]
  },
  {
   "cell_type": "markdown",
   "metadata": {},
   "source": [
    "## 1. Introduction <a name=\"introduction\"></a>\n",
    "\n",
    "### Background\n",
    "\n",
    "The city of Graz is the second biggest city in Austria with almost\n",
    "330,000 residents.\n",
    "It is a typical student city with roughly 60,000 students who mainly\n",
    "live in the city.\n",
    "The housing of students therefore is a significant economic\n",
    "factor in Graz.\n",
    "Accordingly, apartment-hunting is omnipresent and a time-consuming\n",
    "issue.\n",
    "\n",
    "Additionally, many companies in and around Graz\n",
    "are offering employment to graduates of the different universities and\n",
    "therefore, many move to Graz permanently after having finished their \n",
    "studies.\n",
    "Since interest rates are currently at a low, people planning to study \n",
    "and having an intention to stay afterwards may consider to invest into \n",
    "the future, take out a loan and buy property.\n",
    "\n",
    "### Problem\n",
    "\n",
    "When considering to rent an apartment or to buy property, preferences\n",
    "will differ significantly.\n",
    "An apartment can be chosen considering the current situation in a \n",
    "certain borough or neighbourhood but for the acquisition of property the\n",
    "outlook is more important.\n",
    "Questions to be answered are:\n",
    "* Where can I find affordable property?\n",
    "* What is the current state of the borough?\n",
    "* Will the value increase, stay or decrease over the years?\n",
    "\n",
    "This requires a comprehensive analysis of rents, prices, the structure\n",
    "of the different boroughs and the envrionmental circumstances.\n",
    "\n",
    "### Target Audience\n",
    "\n",
    "This data analysis project aims at upcoming students planning to move to\n",
    "Graz with little or no knowledge on the structural and environmental\n",
    "circumstances of the different boroughs.\n",
    "The outcome is a classification of all available boroughs into groups\n",
    "with similar characteristics regarding rents, property prices and\n",
    "demographics.\n",
    "Ultimately, the analysis provides conclusions on recommended boroughs\n",
    "for renting an apartment or buying property."
   ]
  },
  {
   "cell_type": "markdown",
   "metadata": {},
   "source": [
    "## 2. Data <a name=\"data\"></a>\n",
    "\n",
    "* Information on the different boroughs of Graz including\n",
    "\tenvironmental and demographic characteristics can be obtaind\n",
    "\tfrom Wikipedia.\n",
    "* The website www.immobilienscout24.at provides rent and\n",
    "\tproperty price information for Graz down to \n",
    "\tborough-level.\n",
    "\tThis information is based on advertisements posted on \n",
    "\tand purchases made through this site.\n",
    "* The website www.immowert123.at is owned by a real estate \n",
    "\tagency evaluating and selling realty.\n",
    "\tThe agency provides estimates for selected objects in Graz,\n",
    "\tincluding object type, size and recommended price.\n",
    "* The Foursquare database is used to evaluate the\n",
    "\tvibrancy of a borough, which is based on the availability of venues \n",
    "\tin a certain area.\n",
    "\n",
    "The location data, i.e. latitude and longitude, for Graz and its boroughs\n",
    "is acquired using \\textit{geopy} with \\textit{Nominatim} and\\textit{ArcGIS}."
   ]
  },
  {
   "cell_type": "markdown",
   "metadata": {},
   "source": [
    "### 2.1 Get General Borough Information of Graz"
   ]
  },
  {
   "cell_type": "code",
   "execution_count": 1,
   "metadata": {
    "scrolled": false
   },
   "outputs": [],
   "source": [
    "import pandas as pd\n",
    "from textwrap import wrap\n",
    "\n",
    "# Wiki entry with boroughs of Graz\n",
    "urlWiki = 'https://de.wikipedia.org/wiki/Liste_der_Stadtbezirke_von_Graz'\n",
    "\n",
    "# Read in data: take care of different number enconding\n",
    "GrazTable = pd.read_html(urlWiki, decimal=',', thousands='.')[1]\n",
    "\n",
    "# Skip last row (sum) and keep postal code, name, area and population density\n",
    "GrazTable = GrazTable.iloc[:-1, [7, 1, 4, 5]]\n",
    "# Name columns\n",
    "GrazTable.columns = list(['Postal Code', 'Borough', 'Area', 'Population Density'])\n",
    "# Separate postacl codes\n",
    "GrazTable['Postal Code'] = GrazTable['Postal Code'].apply(lambda r: wrap(r, 4)).str.join(', ')"
   ]
  },
  {
   "cell_type": "code",
   "execution_count": 2,
   "metadata": {
    "scrolled": false
   },
   "outputs": [
    {
     "data": {
      "text/html": [
       "<div>\n",
       "<style scoped>\n",
       "    .dataframe tbody tr th:only-of-type {\n",
       "        vertical-align: middle;\n",
       "    }\n",
       "\n",
       "    .dataframe tbody tr th {\n",
       "        vertical-align: top;\n",
       "    }\n",
       "\n",
       "    .dataframe thead th {\n",
       "        text-align: right;\n",
       "    }\n",
       "</style>\n",
       "<table border=\"1\" class=\"dataframe\">\n",
       "  <thead>\n",
       "    <tr style=\"text-align: right;\">\n",
       "      <th></th>\n",
       "      <th>Postal Code</th>\n",
       "      <th>Borough</th>\n",
       "      <th>Area</th>\n",
       "      <th>Population Density</th>\n",
       "    </tr>\n",
       "  </thead>\n",
       "  <tbody>\n",
       "    <tr>\n",
       "      <th>0</th>\n",
       "      <td>8010</td>\n",
       "      <td>Innere Stadt</td>\n",
       "      <td>1.16</td>\n",
       "      <td>3287</td>\n",
       "    </tr>\n",
       "    <tr>\n",
       "      <th>1</th>\n",
       "      <td>8010, 8016</td>\n",
       "      <td>St. Leonhard</td>\n",
       "      <td>1.83</td>\n",
       "      <td>8650</td>\n",
       "    </tr>\n",
       "    <tr>\n",
       "      <th>2</th>\n",
       "      <td>8010, 8013, 8015, 8036</td>\n",
       "      <td>Geidorf</td>\n",
       "      <td>5.50</td>\n",
       "      <td>4452</td>\n",
       "    </tr>\n",
       "  </tbody>\n",
       "</table>\n",
       "</div>"
      ],
      "text/plain": [
       "              Postal Code       Borough  Area  Population Density\n",
       "0                    8010  Innere Stadt  1.16                3287\n",
       "1              8010, 8016  St. Leonhard  1.83                8650\n",
       "2  8010, 8013, 8015, 8036       Geidorf  5.50                4452"
      ]
     },
     "execution_count": 2,
     "metadata": {},
     "output_type": "execute_result"
    }
   ],
   "source": [
    "# Show data\n",
    "GrazTable.head(3)"
   ]
  },
  {
   "cell_type": "markdown",
   "metadata": {
    "scrolled": false
   },
   "source": [
    "### 2.2 Get Borough Locations"
   ]
  },
  {
   "cell_type": "code",
   "execution_count": 3,
   "metadata": {},
   "outputs": [],
   "source": [
    "import numpy as np\n",
    "\n",
    "from geopy.geocoders import ArcGIS\n",
    "geolocator = ArcGIS(user_agent=\"graz_explorer\")\n",
    "\n",
    "# Arrays for latitude and longitude\n",
    "arrLat = np.zeros(GrazTable.shape[0])\n",
    "arrLon = np.zeros(GrazTable.shape[0])\n"
   ]
  },
  {
   "cell_type": "code",
   "execution_count": 4,
   "metadata": {},
   "outputs": [
    {
     "name": "stdout",
     "output_type": "stream",
     "text": [
      "0 Innere Stadt\tlat: 47.072, long: 15.441\n",
      "1 St. Leonhard\tlat: 47.069, long: 15.456\n",
      "2 Geidorf\tlat: 47.085, long: 15.444\n",
      "3 Lend\t\tlat: 47.079, long: 15.419\n",
      "4 Gries\t\tlat: 47.057, long: 15.427\n",
      "5 Jakomini\tlat: 47.057, long: 15.451\n",
      "6 Liebenau\tlat: 47.032, long: 15.464\n",
      "7 St. Peter\tlat: 47.052, long: 15.478\n",
      "8 Waltendorf\tlat: 47.073, long: 15.482\n",
      "9 Ries\t\tlat: 47.081, long: 15.488\n",
      "10 Mariatrost\tlat: 47.107, long: 15.490\n",
      "11 Andritz\tlat: 47.113, long: 15.421\n",
      "12 Gösting\tlat: 47.107, long: 15.394\n",
      "13 Eggenberg\tlat: 47.071, long: 15.399\n",
      "14 Wetzelsdorf\tlat: 47.052, long: 15.401\n",
      "15 Straßgang\tlat: 47.031, long: 15.403\n",
      "16 Puntigam\tlat: 47.029, long: 15.435\n"
     ]
    }
   ],
   "source": [
    "# Loop over all rows and retrieve latitude and longitude for each postal code\n",
    "for idx, row in GrazTable.iterrows():\n",
    "    print(idx, end=\" \")\n",
    "    address = '{}, Graz, Austria'.format(row.Borough)\n",
    "    # Show borough\n",
    "    print(row.Borough, end= \"\")\n",
    "    # Add a tab when necessary\n",
    "    if len(row.Borough)<6: print('\\t', end=\"\")\n",
    "    \n",
    "    # Get location\n",
    "    location = geolocator.geocode(address)\n",
    "    \n",
    "    # Check if we got a valid result\n",
    "    if (location != None):\n",
    "        # Add location to output\n",
    "        print('\\tlat: {:.3f}, long: {:.3f}'.format(location.latitude, location.longitude))\n",
    "        # Store result\n",
    "        arrLat[idx] = location.latitude\n",
    "        arrLon[idx] = location.longitude        \n",
    "    else:\n",
    "        print(', None')"
   ]
  },
  {
   "cell_type": "code",
   "execution_count": 5,
   "metadata": {},
   "outputs": [
    {
     "data": {
      "text/html": [
       "<div>\n",
       "<style scoped>\n",
       "    .dataframe tbody tr th:only-of-type {\n",
       "        vertical-align: middle;\n",
       "    }\n",
       "\n",
       "    .dataframe tbody tr th {\n",
       "        vertical-align: top;\n",
       "    }\n",
       "\n",
       "    .dataframe thead th {\n",
       "        text-align: right;\n",
       "    }\n",
       "</style>\n",
       "<table border=\"1\" class=\"dataframe\">\n",
       "  <thead>\n",
       "    <tr style=\"text-align: right;\">\n",
       "      <th></th>\n",
       "      <th>Postal Code</th>\n",
       "      <th>Borough</th>\n",
       "      <th>Area</th>\n",
       "      <th>Population Density</th>\n",
       "      <th>Latitude</th>\n",
       "      <th>Longitude</th>\n",
       "    </tr>\n",
       "  </thead>\n",
       "  <tbody>\n",
       "    <tr>\n",
       "      <th>0</th>\n",
       "      <td>8010</td>\n",
       "      <td>Inner City</td>\n",
       "      <td>1.16</td>\n",
       "      <td>3287</td>\n",
       "      <td>47.07249</td>\n",
       "      <td>15.44114</td>\n",
       "    </tr>\n",
       "    <tr>\n",
       "      <th>1</th>\n",
       "      <td>8010, 8016</td>\n",
       "      <td>St. Leonhard</td>\n",
       "      <td>1.83</td>\n",
       "      <td>8650</td>\n",
       "      <td>47.06945</td>\n",
       "      <td>15.45639</td>\n",
       "    </tr>\n",
       "    <tr>\n",
       "      <th>2</th>\n",
       "      <td>8010, 8013, 8015, 8036</td>\n",
       "      <td>Geidorf</td>\n",
       "      <td>5.50</td>\n",
       "      <td>4452</td>\n",
       "      <td>47.08481</td>\n",
       "      <td>15.44361</td>\n",
       "    </tr>\n",
       "  </tbody>\n",
       "</table>\n",
       "</div>"
      ],
      "text/plain": [
       "              Postal Code       Borough  Area  Population Density  Latitude  \\\n",
       "0                    8010    Inner City  1.16                3287  47.07249   \n",
       "1              8010, 8016  St. Leonhard  1.83                8650  47.06945   \n",
       "2  8010, 8013, 8015, 8036       Geidorf  5.50                4452  47.08481   \n",
       "\n",
       "   Longitude  \n",
       "0   15.44114  \n",
       "1   15.45639  \n",
       "2   15.44361  "
      ]
     },
     "execution_count": 5,
     "metadata": {},
     "output_type": "execute_result"
    }
   ],
   "source": [
    "# Add locations to table\n",
    "GrazTable['Latitude'] = arrLat\n",
    "GrazTable['Longitude'] = arrLon\n",
    "\n",
    "# Rename inner city for better understanding\n",
    "GrazTable['Borough'] = GrazTable['Borough'].str.replace('Innere Stadt', 'Inner City')\n",
    "\n",
    "GrazTable.head(3)"
   ]
  },
  {
   "cell_type": "markdown",
   "metadata": {},
   "source": [
    "### 2.3 Rent and Realty Prices"
   ]
  },
  {
   "cell_type": "markdown",
   "metadata": {},
   "source": [
    "#### 2.3.1 First Data Source: Scout"
   ]
  },
  {
   "cell_type": "code",
   "execution_count": 6,
   "metadata": {},
   "outputs": [
    {
     "data": {
      "text/html": [
       "<div>\n",
       "<style scoped>\n",
       "    .dataframe tbody tr th:only-of-type {\n",
       "        vertical-align: middle;\n",
       "    }\n",
       "\n",
       "    .dataframe tbody tr th {\n",
       "        vertical-align: top;\n",
       "    }\n",
       "\n",
       "    .dataframe thead th {\n",
       "        text-align: right;\n",
       "    }\n",
       "</style>\n",
       "<table border=\"1\" class=\"dataframe\">\n",
       "  <thead>\n",
       "    <tr style=\"text-align: right;\">\n",
       "      <th></th>\n",
       "      <th>Borough</th>\n",
       "      <th>Rent per sqm</th>\n",
       "      <th>Price per sqm (Scout)</th>\n",
       "    </tr>\n",
       "  </thead>\n",
       "  <tbody>\n",
       "    <tr>\n",
       "      <th>0</th>\n",
       "      <td>Inner City</td>\n",
       "      <td>12.90</td>\n",
       "      <td>3888.0</td>\n",
       "    </tr>\n",
       "    <tr>\n",
       "      <th>1</th>\n",
       "      <td>St. Leonhard</td>\n",
       "      <td>11.32</td>\n",
       "      <td>NaN</td>\n",
       "    </tr>\n",
       "    <tr>\n",
       "      <th>2</th>\n",
       "      <td>Geidorf</td>\n",
       "      <td>10.56</td>\n",
       "      <td>3811.0</td>\n",
       "    </tr>\n",
       "  </tbody>\n",
       "</table>\n",
       "</div>"
      ],
      "text/plain": [
       "        Borough  Rent per sqm  Price per sqm (Scout)\n",
       "0    Inner City         12.90                 3888.0\n",
       "1  St. Leonhard         11.32                    NaN\n",
       "2       Geidorf         10.56                 3811.0"
      ]
     },
     "execution_count": 6,
     "metadata": {},
     "output_type": "execute_result"
    }
   ],
   "source": [
    "# Rent and realty prices provided by a realty portal\n",
    "urlHomeGraz = 'https://www.immobilienscout24.at/immobilienpreise/graz.html'\n",
    "\n",
    "# Rent\n",
    "TableGrazRent = pd.read_html(urlHomeGraz, decimal=',', thousands='.')[0]\n",
    "TableGrazRent.columns=list(['Borough', 'Rent per sqm'])\n",
    "\n",
    "# Realty prices\n",
    "TableGrazRealty = pd.read_html(urlHomeGraz, decimal=',', thousands='.')[1]\n",
    "TableGrazRealty.columns=list(['Borough', 'Price per sqm (Scout)'])\n",
    "\n",
    "# Merge data\n",
    "TableGrazHomeScout = TableGrazRent.merge(TableGrazRealty, on='Borough')\n",
    "# Set missing values to NaN\n",
    "TableGrazHomeScout.loc[TableGrazHomeScout['Price per sqm (Scout)']=='k.A.', 'Price per sqm (Scout)']=np.nan\n",
    "# Convert data to float\n",
    "TableGrazHomeScout['Price per sqm (Scout)'] = TableGrazHomeScout['Price per sqm (Scout)'].astype('float')\n",
    "# Rename inner city for better understanding\n",
    "TableGrazHomeScout['Borough'] = TableGrazHomeScout['Borough'].str.replace('Innere Stadt', 'Inner City')\n",
    "\n",
    "TableGrazHomeScout.head(3)"
   ]
  },
  {
   "cell_type": "markdown",
   "metadata": {},
   "source": [
    "#### 2.3.2 Second Data Source: Immo"
   ]
  },
  {
   "cell_type": "code",
   "execution_count": 7,
   "metadata": {
    "scrolled": false
   },
   "outputs": [],
   "source": [
    "# Base URL for all boroughs\n",
    "baseUrl = 'https://www.immowert123.at/grundstueckspreise/steiermark/grazstadt/'\n",
    "\n",
    "# Available data\n",
    "urlSuffix = list(['innere-stadt', 'st-leonhard', 'geidorf', 'lend', 'gries', 'jakomini',\n",
    "                  'liebenau',   #liebenau\n",
    "                  'engelsdorf', #liebenau\n",
    "                  'st-peter', 'waltendorf',\n",
    "                  'ragnitz',    # ries\n",
    "                  'wenisbuch',  # mariatrost\n",
    "                  'andritz', 'goesting',\n",
    "                  'algersdorf', #eggenberg\n",
    "                  'baierdorf',  #eggenberg\n",
    "                  'wetzelsdorf', 'straszgang',\n",
    "                  'rudersdorf'  #puntigam\n",
    "                 ])\n",
    "\n",
    "urlSuffixNames = list(['Inner City', 'St. Leonhard', 'Geidorf', 'Lend', 'Gries', 'Jakomini', 'Liebenau', \n",
    "                       'Engelsdorf', 'St. Peter', 'Waltendorf', 'Ragnitz', 'Wenisbuch', 'Andritz', 'Gösting', \n",
    "                       'Algersdorf', 'Baierdorf', 'Wetzelsdorf', 'Straßgang', 'Rudersdorf'\n",
    "                      ])"
   ]
  },
  {
   "cell_type": "code",
   "execution_count": 8,
   "metadata": {
    "scrolled": false
   },
   "outputs": [
    {
     "name": "stdout",
     "output_type": "stream",
     "text": [
      "https://www.immowert123.at/grundstueckspreise/steiermark/grazstadt/st-peter\n",
      "St. Peter: Average Price per square metre: EUR 2906.95\n"
     ]
    },
    {
     "data": {
      "text/html": [
       "<div>\n",
       "<style scoped>\n",
       "    .dataframe tbody tr th:only-of-type {\n",
       "        vertical-align: middle;\n",
       "    }\n",
       "\n",
       "    .dataframe tbody tr th {\n",
       "        vertical-align: top;\n",
       "    }\n",
       "\n",
       "    .dataframe thead th {\n",
       "        text-align: right;\n",
       "    }\n",
       "</style>\n",
       "<table border=\"1\" class=\"dataframe\">\n",
       "  <thead>\n",
       "    <tr style=\"text-align: right;\">\n",
       "      <th></th>\n",
       "      <th>Type</th>\n",
       "      <th>Postal Code</th>\n",
       "      <th>Size</th>\n",
       "      <th>Price</th>\n",
       "      <th>Price per sqm (Immo)</th>\n",
       "    </tr>\n",
       "  </thead>\n",
       "  <tbody>\n",
       "    <tr>\n",
       "      <th>0</th>\n",
       "      <td>Apartment</td>\n",
       "      <td>8042</td>\n",
       "      <td>45.10</td>\n",
       "      <td>120900.0</td>\n",
       "      <td>2680.709534</td>\n",
       "    </tr>\n",
       "    <tr>\n",
       "      <th>1</th>\n",
       "      <td>Garden Apartment</td>\n",
       "      <td>8042</td>\n",
       "      <td>55.00</td>\n",
       "      <td>174800.0</td>\n",
       "      <td>3178.181818</td>\n",
       "    </tr>\n",
       "    <tr>\n",
       "      <th>2</th>\n",
       "      <td>Investment Apartment</td>\n",
       "      <td>8042</td>\n",
       "      <td>44.83</td>\n",
       "      <td>125400.0</td>\n",
       "      <td>2797.233995</td>\n",
       "    </tr>\n",
       "    <tr>\n",
       "      <th>3</th>\n",
       "      <td>Penthouse</td>\n",
       "      <td>8042</td>\n",
       "      <td>113.00</td>\n",
       "      <td>335800.0</td>\n",
       "      <td>2971.681416</td>\n",
       "    </tr>\n",
       "  </tbody>\n",
       "</table>\n",
       "</div>"
      ],
      "text/plain": [
       "                   Type Postal Code    Size     Price  Price per sqm (Immo)\n",
       "0             Apartment        8042   45.10  120900.0           2680.709534\n",
       "1      Garden Apartment        8042   55.00  174800.0           3178.181818\n",
       "2  Investment Apartment        8042   44.83  125400.0           2797.233995\n",
       "3             Penthouse        8042  113.00  335800.0           2971.681416"
      ]
     },
     "execution_count": 8,
     "metadata": {},
     "output_type": "execute_result"
    }
   ],
   "source": [
    "import requests\n",
    "from bs4 import BeautifulSoup\n",
    "\n",
    "# Make a test output for one entry\n",
    "#\n",
    "testEntryNum = 8;\n",
    "# Use beautiful soup to parse website\n",
    "testUrl = baseUrl + urlSuffix[testEntryNum]\n",
    "rawData = requests.get(testUrl)\n",
    "data = rawData.text\n",
    "soup = BeautifulSoup(data, 'html.parser')\n",
    "#\n",
    "# Read in the second table and extract all rows\n",
    "table = soup.findAll('div', {'class': 'col-12'})[1]\n",
    "rows = table.findAll('div', {'class': 'row'})\n",
    "# Create a dataframe\n",
    "df = pd.DataFrame([row.text.strip().split('\\n') for row in rows], columns = list(['Type', 'Postal Code', 'Size', 'Price']))\n",
    "# Drop first row with German column names\n",
    "df.drop(index=0, axis=0, inplace=True)\n",
    "# Search for all occurences of the German word for flat (Wohnung)\n",
    "df = df[df['Type'].str.contains('Wohnung|wohnung', regex=True)].reset_index(drop=True)\n",
    "\n",
    "# Rename for better understanding\n",
    "df['Type'] = df['Type'].str.replace('Wohnung', 'Apartment')\n",
    "df['Type'] = df['Type'].str.replace('Vorsorgewohnung', 'Investment Apartment')\n",
    "df['Type'] = df['Type'].str.replace('Souterrainwohnung', 'Souterrain')\n",
    "df['Type'] = df['Type'].str.replace('Galeriewohnung', 'Gallery Apartment')\n",
    "df['Type'] = df['Type'].str.replace('Architektenwohnung', 'Architect Apartment')\n",
    "df['Type'] = df['Type'].str.replace('Terrassenwohnung', 'Terrace Apartment')\n",
    "df['Type'] = df['Type'].str.replace('Dachgeschoßwohnung', 'Penthouse')\n",
    "df['Type'] = df['Type'].str.replace('Gartenwohnung', 'Garden Apartment')\n",
    "\n",
    "# Get rid of special characters and convert prices to float, take care of number encoding\n",
    "df['Size'] = df['Size'].str.replace(',','.').str.slice(stop=-2).astype('float')\n",
    "df['Price'] = df['Price'].str.replace('.','').str.slice(start=2, stop=-1).astype('float')\n",
    "# Calculate average flat price\n",
    "df['Price per sqm (Immo)'] = (df['Price']/df['Size'])\n",
    "\n",
    "# Show the results of this test entry\n",
    "print(testUrl)\n",
    "print('{}: Average Price per square metre: EUR {:.2f}'.format(\n",
    "    urlSuffixNames[testEntryNum], df['Price per sqm (Immo)'].mean()))\n",
    "df"
   ]
  },
  {
   "cell_type": "code",
   "execution_count": 9,
   "metadata": {
    "scrolled": false
   },
   "outputs": [
    {
     "name": "stdout",
     "output_type": "stream",
     "text": [
      "https://www.immowert123.at/grundstueckspreise/steiermark/grazstadt/innere-stadt\t5397.78\n",
      "https://www.immowert123.at/grundstueckspreise/steiermark/grazstadt/st-leonhard\t2221.93\n",
      "https://www.immowert123.at/grundstueckspreise/steiermark/grazstadt/geidorf\t2078.25\n",
      "https://www.immowert123.at/grundstueckspreise/steiermark/grazstadt/lend\t\t1855.58\n",
      "https://www.immowert123.at/grundstueckspreise/steiermark/grazstadt/gries\t2234.76\n",
      "https://www.immowert123.at/grundstueckspreise/steiermark/grazstadt/jakomini\t2049.54\n",
      "https://www.immowert123.at/grundstueckspreise/steiermark/grazstadt/liebenau\t1854.78\n",
      "https://www.immowert123.at/grundstueckspreise/steiermark/grazstadt/engelsdorf\t2231.33\n",
      "https://www.immowert123.at/grundstueckspreise/steiermark/grazstadt/st-peter\t2906.95\n",
      "https://www.immowert123.at/grundstueckspreise/steiermark/grazstadt/waltendorf\t1819.11\n",
      "https://www.immowert123.at/grundstueckspreise/steiermark/grazstadt/ragnitz\t2303.90\n",
      "https://www.immowert123.at/grundstueckspreise/steiermark/grazstadt/wenisbuch\t2166.79\n",
      "https://www.immowert123.at/grundstueckspreise/steiermark/grazstadt/andritz\t1975.34\n",
      "https://www.immowert123.at/grundstueckspreise/steiermark/grazstadt/goesting\t1762.92\n",
      "https://www.immowert123.at/grundstueckspreise/steiermark/grazstadt/algersdorf\t2507.56\n",
      "https://www.immowert123.at/grundstueckspreise/steiermark/grazstadt/baierdorf\t1572.15\n",
      "https://www.immowert123.at/grundstueckspreise/steiermark/grazstadt/wetzelsdorf\t1754.38\n",
      "https://www.immowert123.at/grundstueckspreise/steiermark/grazstadt/straszgang\t2166.41\n",
      "https://www.immowert123.at/grundstueckspreise/steiermark/grazstadt/rudersdorf\t2366.67\n"
     ]
    }
   ],
   "source": [
    "# Perform the analysis shown above for all available URLs\n",
    "avgPriceArray = np.zeros(len(urlSuffix))\n",
    "\n",
    "# Loop over all entries\n",
    "for idx, url in enumerate(urlSuffix):\n",
    "    # Use beautiful soup to parse website\n",
    "    rawData = requests.get(baseUrl + url)\n",
    "    data = rawData.text\n",
    "    soup = BeautifulSoup(data, 'html.parser')\n",
    "    # Read in the second table and extract all rows\n",
    "    table = soup.findAll('div', {'class': 'col-12'})[1]\n",
    "    rows = table.findAll('div', {'class': 'row'})\n",
    "    # Create a dataframe\n",
    "    df = pd.DataFrame([row.text.strip().split('\\n') for row in rows], columns = \n",
    "                      list(['Type', 'Postal Code', 'Size', 'Price']))\n",
    "    # Drop first row with German column names\n",
    "    df.drop(index=0, axis=0, inplace=True)\n",
    "    # Search for all occurences of the German word for flat (Wohnung)\n",
    "    df = df[df['Type'].str.contains('Wohnung|wohnung',regex=True)].reset_index(drop=True)\n",
    "    # Get rid of special characters and convert prices to float, take care of number encoding\n",
    "    df['Size'] = df['Size'].str.replace(',','.').str.slice(stop=-2).astype('float')\n",
    "    df['Price'] = df['Price'].str.replace('.','').str.slice(start=2, stop=-1).astype('float')\n",
    "    df['Price per sqm'] = (df['Price']/df['Size'])\n",
    "    # Calculate average flat price\n",
    "    avgPrice = df['Price per sqm'].mean()\n",
    "    \n",
    "    # Show results\n",
    "    #\n",
    "    if len(url)<5:\n",
    "        print('{}\\t\\t{:.2f}'.format(baseUrl+url, avgPrice))\n",
    "    else:\n",
    "        print('{}\\t{:.2f}'.format(baseUrl+url, avgPrice))\n",
    "    \n",
    "    # Store the average flat price\n",
    "    avgPriceArray[idx] = avgPrice\n"
   ]
  },
  {
   "cell_type": "code",
   "execution_count": 10,
   "metadata": {
    "scrolled": false
   },
   "outputs": [
    {
     "data": {
      "text/html": [
       "<div>\n",
       "<style scoped>\n",
       "    .dataframe tbody tr th:only-of-type {\n",
       "        vertical-align: middle;\n",
       "    }\n",
       "\n",
       "    .dataframe tbody tr th {\n",
       "        vertical-align: top;\n",
       "    }\n",
       "\n",
       "    .dataframe thead th {\n",
       "        text-align: right;\n",
       "    }\n",
       "</style>\n",
       "<table border=\"1\" class=\"dataframe\">\n",
       "  <thead>\n",
       "    <tr style=\"text-align: right;\">\n",
       "      <th></th>\n",
       "      <th>Borough</th>\n",
       "      <th>Price per sqm (Immo)</th>\n",
       "    </tr>\n",
       "  </thead>\n",
       "  <tbody>\n",
       "    <tr>\n",
       "      <th>0</th>\n",
       "      <td>Inner City</td>\n",
       "      <td>5397.783378</td>\n",
       "    </tr>\n",
       "    <tr>\n",
       "      <th>1</th>\n",
       "      <td>St. Leonhard</td>\n",
       "      <td>2221.927651</td>\n",
       "    </tr>\n",
       "    <tr>\n",
       "      <th>2</th>\n",
       "      <td>Geidorf</td>\n",
       "      <td>2078.248241</td>\n",
       "    </tr>\n",
       "  </tbody>\n",
       "</table>\n",
       "</div>"
      ],
      "text/plain": [
       "        Borough  Price per sqm (Immo)\n",
       "0    Inner City           5397.783378\n",
       "1  St. Leonhard           2221.927651\n",
       "2       Geidorf           2078.248241"
      ]
     },
     "execution_count": 10,
     "metadata": {},
     "output_type": "execute_result"
    }
   ],
   "source": [
    "TableGrazHomeImmo = pd.DataFrame({'Borough': urlSuffixNames,\n",
    "                                  'Price per sqm (Immo)': avgPriceArray})\n",
    "TableGrazHomeImmo.head(3)"
   ]
  },
  {
   "cell_type": "markdown",
   "metadata": {},
   "source": [
    "## 3 Methodology <a name=\"methodology\"></a>\n",
    "\n",
    "In this chapter the data is visualised, further prepared, merged and finally clustered."
   ]
  },
  {
   "cell_type": "markdown",
   "metadata": {},
   "source": [
    "### 3.1 Folium Map Describing the Situation <a name=\"methodology-start\"></a>"
   ]
  },
  {
   "cell_type": "code",
   "execution_count": 11,
   "metadata": {},
   "outputs": [
    {
     "name": "stdout",
     "output_type": "stream",
     "text": [
      "0 Engelsdorf\tlat: 47.030, long: 15.465\n",
      "1 Ragnitz\tlat: 47.075, long: 15.511\n",
      "2 Wenisbuch\tlat: 47.118, long: 15.477\n",
      "3 Algersdorf\tlat: 47.077, long: 15.391\n",
      "4 Baierdorf\tlat: 47.068, long: 15.392\n",
      "5 Rudersdorf\tlat: 47.021, long: 15.443\n"
     ]
    }
   ],
   "source": [
    "import folium\n",
    "\n",
    "# Location of Graz\n",
    "locGraz = geolocator.geocode('Graz, Austria')\n",
    "\n",
    "from geopy.geocoders import Nominatim\n",
    "geolocatorAdd = Nominatim(user_agent=\"graz_region_explorer\")\n",
    "\n",
    "# The second data source did not provide data for all boroughs but for additional regions.\n",
    "# Let's see where the additional regions are.\n",
    "#\n",
    "# Available data\n",
    "addRegions = list(['Engelsdorf', #liebenau\n",
    "                   'Ragnitz',    #ries\n",
    "                   'Wenisbuch',  #mariatrost\n",
    "                   'Algersdorf', #eggenberg\n",
    "                   'Baierdorf',  #eggenberg\n",
    "                   'Rudersdorf'  #puntigam\n",
    "                 ])\n",
    "\n",
    "arrAddLat = np.zeros(len(addRegions))\n",
    "arrAddLon = np.zeros(len(addRegions))\n",
    "\n",
    "# Loop over all regions and retrieve latitude and longitude for each postal code\n",
    "for idx, region in enumerate(addRegions):\n",
    "    print(idx, end=\" \")\n",
    "    # Use different geolocator for additional regions\n",
    "    address = '{}, Graz, Austria'.format(region)\n",
    "    # Show region\n",
    "    print(region, end= \"\")\n",
    "    # Add a tab when necessary\n",
    "    #if len(region)<6: print('\\t', end=\"\")\n",
    "    \n",
    "    # Get location\n",
    "    location = geolocatorAdd.geocode(address)\n",
    "    \n",
    "    # Check if we got a valid result\n",
    "    if (location != None):\n",
    "        # Add location to output\n",
    "        print('\\tlat: {:.3f}, long: {:.3f}'.format(location.latitude, location.longitude))\n",
    "        # Store result\n",
    "        arrAddLat[idx] = location.latitude\n",
    "        arrAddLon[idx] = location.longitude        \n",
    "    else:\n",
    "        print(', None')\n",
    "    "
   ]
  },
  {
   "cell_type": "code",
   "execution_count": 12,
   "metadata": {},
   "outputs": [
    {
     "data": {
      "text/html": [
       "<div style=\"width:100%;\"><div style=\"position:relative;width:100%;height:0;padding-bottom:60%;\"><iframe src=\"data:text/html;charset=utf-8;base64,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\" style=\"position:absolute;width:100%;height:100%;left:0;top:0;border:none !important;\" allowfullscreen webkitallowfullscreen mozallowfullscreen></iframe></div></div>"
      ],
      "text/plain": [
       "<folium.folium.Map at 0x26cc090eba8>"
      ]
     },
     "execution_count": 12,
     "metadata": {},
     "output_type": "execute_result"
    }
   ],
   "source": [
    "mapGraz = folium.Map(location=[locGraz.latitude, locGraz.longitude], zoom_start=12)\n",
    "\n",
    "# Radius used for foursquare\n",
    "RADIUS = 350\n",
    "\n",
    "for name, lat, lon, area in zip(GrazTable['Borough'], GrazTable['Latitude'], GrazTable['Longitude'], GrazTable['Area']):\n",
    "    label = folium.Popup(name, parse_html=True)\n",
    "    \n",
    "    # Show a circle for the area investigated using foursquare\n",
    "    folium.Circle(\n",
    "    [lat, lon],\n",
    "    radius = np.max([RADIUS * np.sqrt(area), 500]),\n",
    "    color = None,\n",
    "    fill=True,\n",
    "    fill_opacity=0.7,\n",
    "    fill_color = 'grey'\n",
    "    ).add_to(mapGraz)\n",
    "    \n",
    "    # Mark the center of a borough\n",
    "    folium.CircleMarker(\n",
    "        [lat, lon],\n",
    "        popup = label,\n",
    "        radius = 5,\n",
    "        fill=True,\n",
    "        fill_opacity = 0.7,\n",
    "        parse_html = False\n",
    "    ).add_to(mapGraz)\n",
    "\n",
    "# Add additional regions to see how they fit to the shown boroughs\n",
    "for name, lat, lon in zip(addRegions, arrAddLat, arrAddLon):\n",
    "    label = folium.Popup(name, parse_html=True)\n",
    "    \n",
    "    # Show a marker for additional region\n",
    "    folium.Marker(\n",
    "        [lat,lon],\n",
    "        popup=label,        \n",
    "        icon=folium.Icon(color='cadetblue')\n",
    "    ).add_to(mapGraz)\n",
    "\n",
    "# Show the map\n",
    "mapGraz"
   ]
  },
  {
   "cell_type": "markdown",
   "metadata": {},
   "source": [
    "### 3.2 Merge Rent and Price Data <a name=\"methodology-data\"></a>"
   ]
  },
  {
   "cell_type": "markdown",
   "metadata": {},
   "source": [
    "#### 3.2.1 Reorder Results from Second Data Source"
   ]
  },
  {
   "cell_type": "code",
   "execution_count": 13,
   "metadata": {},
   "outputs": [],
   "source": [
    "# New dataframe\n",
    "TableGrazHomeImmo_reord = TableGrazHomeImmo\n",
    "\n",
    "# From our map we know that we can combine the data from:\n",
    "#\n",
    "# Liebenau and Engelsdorf\n",
    "TableGrazHomeImmo_reord.loc[TableGrazHomeImmo_reord['Borough']=='Liebenau', 'Price per sqm (Immo)'] = \\\n",
    "TableGrazHomeImmo_reord.loc[TableGrazHomeImmo_reord['Borough'].str.contains('Engelsdorf|Liebenau'), \\\n",
    "                            'Price per sqm (Immo)'].mean()\n",
    "TableGrazHomeImmo_reord = TableGrazHomeImmo_reord[TableGrazHomeImmo_reord['Borough']!='Engelsdorf'].reset_index(drop=True)\n",
    "# Baierndorf and Algersdorf\n",
    "TableGrazHomeImmo_reord.loc[TableGrazHomeImmo_reord['Borough']=='Baierdorf', 'Price per sqm (Immo)'] = \\\n",
    "TableGrazHomeImmo_reord.loc[TableGrazHomeImmo_reord['Borough'].str.contains('Baierdorf|Algersdorf'), \\\n",
    "                            'Price per sqm (Immo)'].mean()\n",
    "TableGrazHomeImmo_reord.loc[TableGrazHomeImmo_reord['Borough']=='Baierdorf', 'Borough'] = 'Eggenberg'\n",
    "TableGrazHomeImmo_reord = TableGrazHomeImmo_reord[TableGrazHomeImmo_reord['Borough']!='Algersdorf'].reset_index(drop=True)\n",
    "\n",
    "# Further, we can rename\n",
    "#\n",
    "# Rudersdorf to Puntigam\n",
    "TableGrazHomeImmo_reord.loc[TableGrazHomeImmo_reord['Borough']=='Rudersdorf', 'Borough'] = 'Puntigam'\n",
    "# Ragnitz to Ries\n",
    "TableGrazHomeImmo_reord.loc[TableGrazHomeImmo_reord['Borough']=='Ragnitz', 'Borough'] = 'Ries'\n",
    "# Wenisbuch to Mariatrost\n",
    "TableGrazHomeImmo_reord.loc[TableGrazHomeImmo_reord['Borough']=='Wenisbuch', 'Borough'] = 'Mariatrost'"
   ]
  },
  {
   "cell_type": "markdown",
   "metadata": {},
   "source": [
    "#### 3.2.2 Merge Results"
   ]
  },
  {
   "cell_type": "code",
   "execution_count": 14,
   "metadata": {},
   "outputs": [
    {
     "name": "stdout",
     "output_type": "stream",
     "text": [
      "17 entries in merged dataset\n"
     ]
    },
    {
     "data": {
      "text/html": [
       "<div>\n",
       "<style scoped>\n",
       "    .dataframe tbody tr th:only-of-type {\n",
       "        vertical-align: middle;\n",
       "    }\n",
       "\n",
       "    .dataframe tbody tr th {\n",
       "        vertical-align: top;\n",
       "    }\n",
       "\n",
       "    .dataframe thead th {\n",
       "        text-align: right;\n",
       "    }\n",
       "</style>\n",
       "<table border=\"1\" class=\"dataframe\">\n",
       "  <thead>\n",
       "    <tr style=\"text-align: right;\">\n",
       "      <th></th>\n",
       "      <th>Borough</th>\n",
       "      <th>Rent per sqm</th>\n",
       "      <th>Price per sqm (Scout)</th>\n",
       "      <th>Price per sqm (Immo)</th>\n",
       "      <th>Average Price per sqm</th>\n",
       "    </tr>\n",
       "  </thead>\n",
       "  <tbody>\n",
       "    <tr>\n",
       "      <th>0</th>\n",
       "      <td>Inner City</td>\n",
       "      <td>12.90</td>\n",
       "      <td>3888.0</td>\n",
       "      <td>5397.783378</td>\n",
       "      <td>4642.891689</td>\n",
       "    </tr>\n",
       "    <tr>\n",
       "      <th>1</th>\n",
       "      <td>St. Leonhard</td>\n",
       "      <td>11.32</td>\n",
       "      <td>NaN</td>\n",
       "      <td>2221.927651</td>\n",
       "      <td>2221.927651</td>\n",
       "    </tr>\n",
       "    <tr>\n",
       "      <th>2</th>\n",
       "      <td>Geidorf</td>\n",
       "      <td>10.56</td>\n",
       "      <td>3811.0</td>\n",
       "      <td>2078.248241</td>\n",
       "      <td>2944.624120</td>\n",
       "    </tr>\n",
       "  </tbody>\n",
       "</table>\n",
       "</div>"
      ],
      "text/plain": [
       "        Borough  Rent per sqm  Price per sqm (Scout)  Price per sqm (Immo)  \\\n",
       "0    Inner City         12.90                 3888.0           5397.783378   \n",
       "1  St. Leonhard         11.32                    NaN           2221.927651   \n",
       "2       Geidorf         10.56                 3811.0           2078.248241   \n",
       "\n",
       "   Average Price per sqm  \n",
       "0            4642.891689  \n",
       "1            2221.927651  \n",
       "2            2944.624120  "
      ]
     },
     "execution_count": 14,
     "metadata": {},
     "output_type": "execute_result"
    }
   ],
   "source": [
    "TableGrazHome_merged = TableGrazHomeScout.merge(TableGrazHomeImmo_reord, on='Borough')\n",
    "TableGrazHome_merged['Average Price per sqm'] = np.mean(TableGrazHome_merged.loc[:, ['Price per sqm (Scout)', \\\n",
    "                                                                                     'Price per sqm (Immo)']], axis=1)\n",
    "\n",
    "print('{} entries in merged dataset'.format(TableGrazHome_merged.shape[0]))\n",
    "TableGrazHome_merged.head(3)"
   ]
  },
  {
   "cell_type": "markdown",
   "metadata": {},
   "source": [
    "### 3.3 Foursquare <a name=\"methodology-foursquare\"></a>"
   ]
  },
  {
   "cell_type": "code",
   "execution_count": 15,
   "metadata": {},
   "outputs": [],
   "source": [
    "import json # library to handle JSON files\n",
    "from pandas.io.json import json_normalize # tranform JSON file into a pandas dataframe\n",
    "\n",
    "CLIENT_ID = '' # removed for upload\n",
    "CLIENT_SECRET = '' # removed for upload\n",
    "VERSION = '20180605' # Foursquare API version"
   ]
  },
  {
   "cell_type": "code",
   "execution_count": 16,
   "metadata": {},
   "outputs": [],
   "source": [
    "# Define a venue limit\n",
    "LIMIT = 100"
   ]
  },
  {
   "cell_type": "code",
   "execution_count": 17,
   "metadata": {},
   "outputs": [],
   "source": [
    "def getNearbyVenues(names, latitudes, longitudes, area, radius=500):\n",
    "    \n",
    "    venues_list=[]\n",
    "    for name, lat, lng, area in zip(names, latitudes, longitudes, area):\n",
    "        print(name)\n",
    "            \n",
    "        # create the API request URL\n",
    "        url = 'https://api.foursquare.com/v2/venues/explore?&client_id={}&client_secret={}&v={}&ll={},{}&radius={}&limit={}'.format(\n",
    "            CLIENT_ID, \n",
    "            CLIENT_SECRET, \n",
    "            VERSION, \n",
    "            lat, \n",
    "            lng, \n",
    "            np.max([radius * np.sqrt(area), 500]), \n",
    "            LIMIT)\n",
    "            \n",
    "        # make the GET request\n",
    "        results = requests.get(url).json()[\"response\"]['groups'][0]['items']\n",
    "        \n",
    "        # return only relevant information for each nearby venue\n",
    "        venues_list.append([(\n",
    "            name, \n",
    "            lat, \n",
    "            lng, \n",
    "            v['venue']['name'], \n",
    "            v['venue']['location']['lat'], \n",
    "            v['venue']['location']['lng'],  \n",
    "            v['venue']['categories'][0]['name']) for v in results])\n",
    "\n",
    "    nearby_venues = pd.DataFrame([item for venue_list in venues_list for item in venue_list])\n",
    "    nearby_venues.columns = ['Borough', \n",
    "                  'Borough Latitude', \n",
    "                  'Borough Longitude', \n",
    "                  'Venue', \n",
    "                  'Venue Latitude', \n",
    "                  'Venue Longitude', \n",
    "                  'Venue Category']\n",
    "    \n",
    "    return(nearby_venues)"
   ]
  },
  {
   "cell_type": "code",
   "execution_count": 18,
   "metadata": {},
   "outputs": [
    {
     "name": "stdout",
     "output_type": "stream",
     "text": [
      "Inner City\n",
      "St. Leonhard\n",
      "Geidorf\n",
      "Lend\n",
      "Gries\n",
      "Jakomini\n",
      "Liebenau\n",
      "St. Peter\n",
      "Waltendorf\n",
      "Ries\n",
      "Mariatrost\n",
      "Andritz\n",
      "Gösting\n",
      "Eggenberg\n",
      "Wetzelsdorf\n",
      "Straßgang\n",
      "Puntigam\n"
     ]
    }
   ],
   "source": [
    "GrazVenues = getNearbyVenues(names=GrazTable['Borough'],\n",
    "                             latitudes=GrazTable['Latitude'],\n",
    "                             longitudes=GrazTable['Longitude'],\n",
    "                             area=GrazTable['Area'],\n",
    "                             radius=RADIUS\n",
    "                                  )"
   ]
  },
  {
   "cell_type": "code",
   "execution_count": 19,
   "metadata": {},
   "outputs": [
    {
     "name": "stdout",
     "output_type": "stream",
     "text": [
      "Data set size: (348, 7)\n"
     ]
    },
    {
     "data": {
      "text/html": [
       "<div>\n",
       "<style scoped>\n",
       "    .dataframe tbody tr th:only-of-type {\n",
       "        vertical-align: middle;\n",
       "    }\n",
       "\n",
       "    .dataframe tbody tr th {\n",
       "        vertical-align: top;\n",
       "    }\n",
       "\n",
       "    .dataframe thead th {\n",
       "        text-align: right;\n",
       "    }\n",
       "</style>\n",
       "<table border=\"1\" class=\"dataframe\">\n",
       "  <thead>\n",
       "    <tr style=\"text-align: right;\">\n",
       "      <th></th>\n",
       "      <th>Borough</th>\n",
       "      <th>Borough Latitude</th>\n",
       "      <th>Borough Longitude</th>\n",
       "      <th>Venue</th>\n",
       "      <th>Venue Latitude</th>\n",
       "      <th>Venue Longitude</th>\n",
       "      <th>Venue Category</th>\n",
       "    </tr>\n",
       "  </thead>\n",
       "  <tbody>\n",
       "    <tr>\n",
       "      <th>0</th>\n",
       "      <td>Inner City</td>\n",
       "      <td>47.07249</td>\n",
       "      <td>15.44114</td>\n",
       "      <td>Eis-Greissler</td>\n",
       "      <td>47.072120</td>\n",
       "      <td>15.438734</td>\n",
       "      <td>Ice Cream Shop</td>\n",
       "    </tr>\n",
       "    <tr>\n",
       "      <th>1</th>\n",
       "      <td>Inner City</td>\n",
       "      <td>47.07249</td>\n",
       "      <td>15.44114</td>\n",
       "      <td>Delikatessen Frankowitsch</td>\n",
       "      <td>47.070623</td>\n",
       "      <td>15.441221</td>\n",
       "      <td>Gourmet Shop</td>\n",
       "    </tr>\n",
       "    <tr>\n",
       "      <th>2</th>\n",
       "      <td>Inner City</td>\n",
       "      <td>47.07249</td>\n",
       "      <td>15.44114</td>\n",
       "      <td>Café Mitte</td>\n",
       "      <td>47.072975</td>\n",
       "      <td>15.440947</td>\n",
       "      <td>Bar</td>\n",
       "    </tr>\n",
       "  </tbody>\n",
       "</table>\n",
       "</div>"
      ],
      "text/plain": [
       "      Borough  Borough Latitude  Borough Longitude                      Venue  \\\n",
       "0  Inner City          47.07249           15.44114              Eis-Greissler   \n",
       "1  Inner City          47.07249           15.44114  Delikatessen Frankowitsch   \n",
       "2  Inner City          47.07249           15.44114                 Café Mitte   \n",
       "\n",
       "   Venue Latitude  Venue Longitude  Venue Category  \n",
       "0       47.072120        15.438734  Ice Cream Shop  \n",
       "1       47.070623        15.441221    Gourmet Shop  \n",
       "2       47.072975        15.440947             Bar  "
      ]
     },
     "execution_count": 19,
     "metadata": {},
     "output_type": "execute_result"
    }
   ],
   "source": [
    "print('Data set size: {}'.format(GrazVenues.shape))\n",
    "GrazVenues.head(3)"
   ]
  },
  {
   "cell_type": "markdown",
   "metadata": {},
   "source": [
    "### 3.4 Exploratory Data Analysis <a name=\"methodology-analysis\"></a>"
   ]
  },
  {
   "cell_type": "markdown",
   "metadata": {},
   "source": [
    "We need to check if our variables are independent. Of special importance will be if vibrance correlates with rent or price. In that case there would not be much left to analyse."
   ]
  },
  {
   "cell_type": "markdown",
   "metadata": {},
   "source": [
    "#### 3.4.1 Rent and Realty Prices"
   ]
  },
  {
   "cell_type": "code",
   "execution_count": 21,
   "metadata": {},
   "outputs": [
    {
     "data": {
      "image/png": "[encoded data removed]",
      "text/plain": [
       "<Figure size 1080x432 with 2 Axes>"
      ]
     },
     "metadata": {
      "needs_background": "light"
     },
     "output_type": "display_data"
    }
   ],
   "source": [
    "import matplotlib.pyplot as plt\n",
    "import seaborn as sns\n",
    "\n",
    "plt.rc('font', size=20)\n",
    "plt.figure(figsize=(15,6))\n",
    "# Have a quick look at the correlation between rent and price\n",
    "plt.subplot(1,2,1)\n",
    "plt.scatter(x=TableGrazHome_merged['Average Price per sqm'], y=TableGrazHome_merged['Rent per sqm'], s=150)\n",
    "plt.xlabel(r'Realty Price (EUR/m$^2$)', fontsize=24)\n",
    "plt.ylabel(r'Rent (EUR/m$^2$)', fontsize=24)\n",
    "# \n",
    "plt.subplot(1,2,2)\n",
    "sns.regplot(x=TableGrazHome_merged['Average Price per sqm'], y=TableGrazHome_merged['Rent per sqm'])\n",
    "plt.xlabel(r'Realty Price (EUR/m$^2$)', fontsize=24)\n",
    "plt.ylabel(r'Rent (EUR/m$^2$)', fontsize=24)\n",
    "\n",
    "plt.subplots_adjust(wspace=0.3)\n",
    "plt.show()"
   ]
  },
  {
   "cell_type": "markdown",
   "metadata": {},
   "source": [
    "#### 3.4.2 Rent, Prices and Vibrancy of Boroughs"
   ]
  },
  {
   "cell_type": "code",
   "execution_count": 23,
   "metadata": {},
   "outputs": [],
   "source": [
    "# Group venues by Borough\n",
    "GrazVenues_grouped = GrazVenues.groupby('Borough')[['Venue']].count()\n",
    "# Sort in ascending order\n",
    "GrazVenues_grouped_srt = GrazVenues_grouped.sort_values(by='Venue', ascending=True)\n",
    "\n",
    "# Sort prices by same order \n",
    "TableGrazHome_merged_srt = TableGrazHome_merged.copy()\n",
    "TableGrazHome_merged_srt.set_index('Borough', inplace=True)\n",
    "TableGrazHome_merged_srt = TableGrazHome_merged_srt.loc[GrazVenues_grouped_srt.index, :]"
   ]
  },
  {
   "cell_type": "code",
   "execution_count": 24,
   "metadata": {},
   "outputs": [
    {
     "data": {
      "image/png": "[encoded data removed]",
      "text/plain": [
       "<Figure size 936x936 with 3 Axes>"
      ]
     },
     "metadata": {
      "needs_background": "light"
     },
     "output_type": "display_data"
    }
   ],
   "source": [
    "# Compare venues, rent and realty price\n",
    "plt.rc('font', size=18)\n",
    "plt.figure(figsize=[13,13])\n",
    "#\n",
    "plt.subplot(2,2,1)\n",
    "plt.barh(np.arange(GrazTable.shape[0]), GrazVenues_grouped_srt['Venue'])\n",
    "plt.yticks(np.arange(GrazTable.shape[0]), GrazVenues_grouped_srt.index)\n",
    "plt.xlabel('Venues');\n",
    "#\n",
    "plt.subplot(2,2,2)\n",
    "plt.barh(np.arange(GrazTable.shape[0]), TableGrazHome_merged_srt['Rent per sqm'])\n",
    "plt.yticks(np.arange(GrazTable.shape[0]), TableGrazHome_merged_srt.index)\n",
    "plt.xlim((9, 13))\n",
    "plt.xlabel(r'Rent (EUR/m$^2$)');\n",
    "#\n",
    "plt.subplot(2,2,3)\n",
    "plt.barh(np.arange(GrazTable.shape[0]), TableGrazHome_merged_srt['Average Price per sqm'])\n",
    "plt.yticks(np.arange(GrazTable.shape[0]), TableGrazHome_merged_srt.index)\n",
    "plt.xlim((1900, 4800))\n",
    "plt.xlabel(r'Realty Price (EUR/m$^2$)');\n",
    "\n",
    "plt.subplots_adjust(wspace=0.45, hspace=0.3)\n",
    "plt.show()"
   ]
  },
  {
   "cell_type": "markdown",
   "metadata": {},
   "source": [
    "#### 3.4.3 Population Density and Vibrancy"
   ]
  },
  {
   "cell_type": "code",
   "execution_count": 25,
   "metadata": {},
   "outputs": [
    {
     "data": {
      "image/png": "[encoded data removed]",
      "text/plain": [
       "<Figure size 1080x432 with 2 Axes>"
      ]
     },
     "metadata": {
      "needs_background": "light"
     },
     "output_type": "display_data"
    }
   ],
   "source": [
    "import matplotlib.pyplot as plt\n",
    "import seaborn as sns\n",
    "\n",
    "df_tmp = GrazTable.merge(GrazVenues_grouped, on='Borough')[['Population Density', 'Venue']]\n",
    "\n",
    "plt.rc('font', size=20) \n",
    "plt.figure(figsize=(15,6))\n",
    "# Have a quick look at the correlation between rent and price\n",
    "plt.subplot(1,2,1)\n",
    "plt.scatter(x=df_tmp['Population Density'], y=df_tmp['Venue'], s=150)\n",
    "plt.xlabel('Population Density', fontsize=24)\n",
    "plt.ylabel('Venues', fontsize=24)\n",
    "# \n",
    "plt.subplot(1,2,2)\n",
    "sns.regplot(x=df_tmp['Population Density'], y=df_tmp['Venue'])\n",
    "plt.xlabel('Population Density', fontsize=24)\n",
    "plt.ylabel('Venues', fontsize=24)\n",
    "\n",
    "plt.subplots_adjust(wspace=0.3)\n",
    "plt.show()"
   ]
  },
  {
   "cell_type": "markdown",
   "metadata": {},
   "source": [
    "### 3.5 Data Clustering <a name=\"methodology-clustering\"></a>"
   ]
  },
  {
   "cell_type": "markdown",
   "metadata": {},
   "source": [
    "#### 3.5.1 Prepare Data"
   ]
  },
  {
   "cell_type": "code",
   "execution_count": 26,
   "metadata": {},
   "outputs": [
    {
     "data": {
      "text/html": [
       "<div>\n",
       "<style scoped>\n",
       "    .dataframe tbody tr th:only-of-type {\n",
       "        vertical-align: middle;\n",
       "    }\n",
       "\n",
       "    .dataframe tbody tr th {\n",
       "        vertical-align: top;\n",
       "    }\n",
       "\n",
       "    .dataframe thead th {\n",
       "        text-align: right;\n",
       "    }\n",
       "</style>\n",
       "<table border=\"1\" class=\"dataframe\">\n",
       "  <thead>\n",
       "    <tr style=\"text-align: right;\">\n",
       "      <th></th>\n",
       "      <th>Rent per sqm</th>\n",
       "      <th>Average Price per sqm</th>\n",
       "      <th>Area</th>\n",
       "      <th>Population Density</th>\n",
       "      <th>Venue</th>\n",
       "    </tr>\n",
       "    <tr>\n",
       "      <th>Borough</th>\n",
       "      <th></th>\n",
       "      <th></th>\n",
       "      <th></th>\n",
       "      <th></th>\n",
       "      <th></th>\n",
       "    </tr>\n",
       "  </thead>\n",
       "  <tbody>\n",
       "    <tr>\n",
       "      <th>Inner City</th>\n",
       "      <td>12.90</td>\n",
       "      <td>4642.891689</td>\n",
       "      <td>1.16</td>\n",
       "      <td>3287</td>\n",
       "      <td>96</td>\n",
       "    </tr>\n",
       "    <tr>\n",
       "      <th>St. Leonhard</th>\n",
       "      <td>11.32</td>\n",
       "      <td>2221.927651</td>\n",
       "      <td>1.83</td>\n",
       "      <td>8650</td>\n",
       "      <td>20</td>\n",
       "    </tr>\n",
       "    <tr>\n",
       "      <th>Geidorf</th>\n",
       "      <td>10.56</td>\n",
       "      <td>2944.624120</td>\n",
       "      <td>5.50</td>\n",
       "      <td>4452</td>\n",
       "      <td>24</td>\n",
       "    </tr>\n",
       "  </tbody>\n",
       "</table>\n",
       "</div>"
      ],
      "text/plain": [
       "              Rent per sqm  Average Price per sqm  Area  Population Density  \\\n",
       "Borough                                                                       \n",
       "Inner City           12.90            4642.891689  1.16                3287   \n",
       "St. Leonhard         11.32            2221.927651  1.83                8650   \n",
       "Geidorf              10.56            2944.624120  5.50                4452   \n",
       "\n",
       "              Venue  \n",
       "Borough              \n",
       "Inner City       96  \n",
       "St. Leonhard     20  \n",
       "Geidorf          24  "
      ]
     },
     "execution_count": 26,
     "metadata": {},
     "output_type": "execute_result"
    }
   ],
   "source": [
    "from sklearn.cluster import KMeans\n",
    "from sklearn.preprocessing import StandardScaler\n",
    "\n",
    "# Put entire information together\n",
    "TableGrazHome_cluster = TableGrazHome_merged.merge(GrazTable, on='Borough')\n",
    "TableGrazHome_cluster = TableGrazHome_cluster.merge(GrazVenues_grouped_srt, on='Borough')\n",
    "TableGrazHome_cluster = TableGrazHome_cluster.drop(\n",
    "    columns={'Price per sqm (Scout)', 'Price per sqm (Immo)', 'Postal Code', 'Latitude', 'Longitude'}).set_index('Borough')\n",
    "TableGrazHome_cluster.head(3)"
   ]
  },
  {
   "cell_type": "code",
   "execution_count": 27,
   "metadata": {},
   "outputs": [],
   "source": [
    "# We'll define two data sets\n",
    "\n",
    "# Rent:\n",
    "#\n",
    "# We will use\n",
    "df_rent = TableGrazHome_cluster.drop(columns={'Average Price per sqm'})\n",
    "\n",
    "# Realty\n",
    "df_realty = TableGrazHome_cluster.drop(columns={'Rent per sqm'})"
   ]
  },
  {
   "cell_type": "code",
   "execution_count": 28,
   "metadata": {},
   "outputs": [],
   "source": [
    "# Normalize our data\n",
    "rent_cluster = StandardScaler().fit_transform(df_rent)\n",
    "realty_cluster = StandardScaler().fit_transform(df_realty)"
   ]
  },
  {
   "cell_type": "code",
   "execution_count": 29,
   "metadata": {},
   "outputs": [],
   "source": [
    "# K-means clustering\n",
    "numClust = 5\n",
    "kMeansGraz = KMeans(n_clusters=numClust, init='k-means++', n_init=12, max_iter=300)"
   ]
  },
  {
   "cell_type": "code",
   "execution_count": 30,
   "metadata": {},
   "outputs": [],
   "source": [
    "# Rent\n",
    "kMeansGraz_rent = kMeansGraz.fit(rent_cluster)\n",
    "\n",
    "# Realty\n",
    "kMeansGraz_realty = kMeansGraz.fit(realty_cluster)"
   ]
  },
  {
   "cell_type": "markdown",
   "metadata": {},
   "source": [
    "#### 3.5.2 Check the results"
   ]
  },
  {
   "cell_type": "code",
   "execution_count": 31,
   "metadata": {},
   "outputs": [
    {
     "name": "stdout",
     "output_type": "stream",
     "text": [
      "Same clusters for rent and realty.\n"
     ]
    }
   ],
   "source": [
    "# Check if there is a difference between the clustering\n",
    "if (np.sum(kMeansGraz_rent.labels_ - kMeansGraz_realty.labels_)):\n",
    "    print('Different clusters for rent and realty data.')\n",
    "else:\n",
    "    print('Same clusters for rent and realty.')"
   ]
  },
  {
   "cell_type": "code",
   "execution_count": 32,
   "metadata": {},
   "outputs": [
    {
     "data": {
      "text/html": [
       "<div>\n",
       "<style scoped>\n",
       "    .dataframe tbody tr th:only-of-type {\n",
       "        vertical-align: middle;\n",
       "    }\n",
       "\n",
       "    .dataframe tbody tr th {\n",
       "        vertical-align: top;\n",
       "    }\n",
       "\n",
       "    .dataframe thead th {\n",
       "        text-align: right;\n",
       "    }\n",
       "</style>\n",
       "<table border=\"1\" class=\"dataframe\">\n",
       "  <thead>\n",
       "    <tr style=\"text-align: right;\">\n",
       "      <th></th>\n",
       "      <th>Borough</th>\n",
       "      <th>Rent per sqm</th>\n",
       "      <th>Average Price per sqm</th>\n",
       "      <th>Area</th>\n",
       "      <th>Population Density</th>\n",
       "      <th>Latitude</th>\n",
       "      <th>Longitude</th>\n",
       "      <th>Venue Count</th>\n",
       "      <th>Cluster</th>\n",
       "    </tr>\n",
       "  </thead>\n",
       "  <tbody>\n",
       "    <tr>\n",
       "      <th>0</th>\n",
       "      <td>Inner City</td>\n",
       "      <td>12.90</td>\n",
       "      <td>4642.891689</td>\n",
       "      <td>1.16</td>\n",
       "      <td>3287</td>\n",
       "      <td>47.07249</td>\n",
       "      <td>15.44114</td>\n",
       "      <td>96</td>\n",
       "      <td>1</td>\n",
       "    </tr>\n",
       "    <tr>\n",
       "      <th>1</th>\n",
       "      <td>St. Leonhard</td>\n",
       "      <td>11.32</td>\n",
       "      <td>2221.927651</td>\n",
       "      <td>1.83</td>\n",
       "      <td>8650</td>\n",
       "      <td>47.06945</td>\n",
       "      <td>15.45639</td>\n",
       "      <td>20</td>\n",
       "      <td>3</td>\n",
       "    </tr>\n",
       "    <tr>\n",
       "      <th>2</th>\n",
       "      <td>Geidorf</td>\n",
       "      <td>10.56</td>\n",
       "      <td>2944.624120</td>\n",
       "      <td>5.50</td>\n",
       "      <td>4452</td>\n",
       "      <td>47.08481</td>\n",
       "      <td>15.44361</td>\n",
       "      <td>24</td>\n",
       "      <td>0</td>\n",
       "    </tr>\n",
       "  </tbody>\n",
       "</table>\n",
       "</div>"
      ],
      "text/plain": [
       "        Borough  Rent per sqm  Average Price per sqm  Area  \\\n",
       "0    Inner City         12.90            4642.891689  1.16   \n",
       "1  St. Leonhard         11.32            2221.927651  1.83   \n",
       "2       Geidorf         10.56            2944.624120  5.50   \n",
       "\n",
       "   Population Density  Latitude  Longitude  Venue Count  Cluster  \n",
       "0                3287  47.07249   15.44114           96        1  \n",
       "1                8650  47.06945   15.45639           20        3  \n",
       "2                4452  47.08481   15.44361           24        0  "
      ]
     },
     "execution_count": 32,
     "metadata": {},
     "output_type": "execute_result"
    }
   ],
   "source": [
    "finalTable = TableGrazHome_merged.merge(GrazTable, on='Borough').drop(\n",
    "    columns={'Price per sqm (Scout)', 'Price per sqm (Immo)', 'Postal Code'})\n",
    "# Add venues labels to the table\n",
    "finalTable = finalTable.merge(GrazVenues_grouped, on='Borough')\n",
    "finalTable = finalTable.rename(columns={'Venue': 'Venue Count'})\n",
    "# Add cluster labels to the table\n",
    "finalTable['Cluster'] = kMeansGraz_realty.labels_\n",
    "\n",
    "finalTable.head(3)"
   ]
  },
  {
   "cell_type": "markdown",
   "metadata": {},
   "source": [
    "## 4. Results <a name=\"results\"></a>"
   ]
  },
  {
   "cell_type": "markdown",
   "metadata": {},
   "source": [
    "Clustering provides 5 clusters with 7, 1, 3, 3 and 3 boroughs, respectively.\n",
    "\n",
    "* The largest cluster provides moderate rent and a lively neighbourhood.\n",
    "* The smallest cluster is the inner city and expensive.\n",
    "* Cluster 2 consists of 3 boroughs, shows low rent, high realty prices and low vibrancy in the environment.\n",
    "* Cluster 3 consists of 3 boroughs and is cheap but very densely populated.\n",
    "* Cluster 4 consists of 3 boroughs, shows rather high rent, moderate realty prices and a rather vibrant neighbourhood.\n",
    "\n",
    "**Note:** Cluster numbers may change when you re-run the cells."
   ]
  },
  {
   "cell_type": "markdown",
   "metadata": {},
   "source": [
    "### 4.1 Clusters"
   ]
  },
  {
   "cell_type": "code",
   "execution_count": 33,
   "metadata": {},
   "outputs": [
    {
     "data": {
      "text/html": [
       "<div>\n",
       "<style scoped>\n",
       "    .dataframe tbody tr th:only-of-type {\n",
       "        vertical-align: middle;\n",
       "    }\n",
       "\n",
       "    .dataframe tbody tr th {\n",
       "        vertical-align: top;\n",
       "    }\n",
       "\n",
       "    .dataframe thead th {\n",
       "        text-align: right;\n",
       "    }\n",
       "</style>\n",
       "<table border=\"1\" class=\"dataframe\">\n",
       "  <thead>\n",
       "    <tr style=\"text-align: right;\">\n",
       "      <th></th>\n",
       "      <th>Borough</th>\n",
       "      <th>Rent per sqm</th>\n",
       "      <th>Average Price per sqm</th>\n",
       "      <th>Area</th>\n",
       "      <th>Population Density</th>\n",
       "      <th>Latitude</th>\n",
       "      <th>Longitude</th>\n",
       "      <th>Venue Count</th>\n",
       "      <th>Cluster</th>\n",
       "    </tr>\n",
       "  </thead>\n",
       "  <tbody>\n",
       "    <tr>\n",
       "      <th>2</th>\n",
       "      <td>Geidorf</td>\n",
       "      <td>10.56</td>\n",
       "      <td>2944.624120</td>\n",
       "      <td>5.50</td>\n",
       "      <td>4452</td>\n",
       "      <td>47.08481</td>\n",
       "      <td>15.44361</td>\n",
       "      <td>24</td>\n",
       "      <td>0</td>\n",
       "    </tr>\n",
       "    <tr>\n",
       "      <th>4</th>\n",
       "      <td>Gries</td>\n",
       "      <td>10.36</td>\n",
       "      <td>2621.380675</td>\n",
       "      <td>5.05</td>\n",
       "      <td>5386</td>\n",
       "      <td>47.05672</td>\n",
       "      <td>15.42688</td>\n",
       "      <td>20</td>\n",
       "      <td>0</td>\n",
       "    </tr>\n",
       "    <tr>\n",
       "      <th>6</th>\n",
       "      <td>Liebenau</td>\n",
       "      <td>10.41</td>\n",
       "      <td>2632.527983</td>\n",
       "      <td>7.99</td>\n",
       "      <td>1723</td>\n",
       "      <td>47.03230</td>\n",
       "      <td>15.46449</td>\n",
       "      <td>24</td>\n",
       "      <td>0</td>\n",
       "    </tr>\n",
       "    <tr>\n",
       "      <th>8</th>\n",
       "      <td>Waltendorf</td>\n",
       "      <td>11.88</td>\n",
       "      <td>2270.054059</td>\n",
       "      <td>4.48</td>\n",
       "      <td>2648</td>\n",
       "      <td>47.07256</td>\n",
       "      <td>15.48158</td>\n",
       "      <td>8</td>\n",
       "      <td>0</td>\n",
       "    </tr>\n",
       "    <tr>\n",
       "      <th>13</th>\n",
       "      <td>Eggenberg</td>\n",
       "      <td>12.33</td>\n",
       "      <td>2402.925951</td>\n",
       "      <td>7.79</td>\n",
       "      <td>2509</td>\n",
       "      <td>47.07111</td>\n",
       "      <td>15.39883</td>\n",
       "      <td>20</td>\n",
       "      <td>0</td>\n",
       "    </tr>\n",
       "    <tr>\n",
       "      <th>14</th>\n",
       "      <td>Wetzelsdorf</td>\n",
       "      <td>11.08</td>\n",
       "      <td>2408.188601</td>\n",
       "      <td>5.77</td>\n",
       "      <td>2599</td>\n",
       "      <td>47.05190</td>\n",
       "      <td>15.40077</td>\n",
       "      <td>8</td>\n",
       "      <td>0</td>\n",
       "    </tr>\n",
       "    <tr>\n",
       "      <th>16</th>\n",
       "      <td>Puntigam</td>\n",
       "      <td>9.96</td>\n",
       "      <td>2683.333333</td>\n",
       "      <td>6.18</td>\n",
       "      <td>1272</td>\n",
       "      <td>47.02872</td>\n",
       "      <td>15.43471</td>\n",
       "      <td>23</td>\n",
       "      <td>0</td>\n",
       "    </tr>\n",
       "  </tbody>\n",
       "</table>\n",
       "</div>"
      ],
      "text/plain": [
       "        Borough  Rent per sqm  Average Price per sqm  Area  \\\n",
       "2       Geidorf         10.56            2944.624120  5.50   \n",
       "4         Gries         10.36            2621.380675  5.05   \n",
       "6      Liebenau         10.41            2632.527983  7.99   \n",
       "8    Waltendorf         11.88            2270.054059  4.48   \n",
       "13    Eggenberg         12.33            2402.925951  7.79   \n",
       "14  Wetzelsdorf         11.08            2408.188601  5.77   \n",
       "16     Puntigam          9.96            2683.333333  6.18   \n",
       "\n",
       "    Population Density  Latitude  Longitude  Venue Count  Cluster  \n",
       "2                 4452  47.08481   15.44361           24        0  \n",
       "4                 5386  47.05672   15.42688           20        0  \n",
       "6                 1723  47.03230   15.46449           24        0  \n",
       "8                 2648  47.07256   15.48158            8        0  \n",
       "13                2509  47.07111   15.39883           20        0  \n",
       "14                2599  47.05190   15.40077            8        0  \n",
       "16                1272  47.02872   15.43471           23        0  "
      ]
     },
     "execution_count": 33,
     "metadata": {},
     "output_type": "execute_result"
    }
   ],
   "source": [
    "finalTable[finalTable['Cluster']==0]"
   ]
  },
  {
   "cell_type": "code",
   "execution_count": 34,
   "metadata": {},
   "outputs": [
    {
     "data": {
      "text/html": [
       "<div>\n",
       "<style scoped>\n",
       "    .dataframe tbody tr th:only-of-type {\n",
       "        vertical-align: middle;\n",
       "    }\n",
       "\n",
       "    .dataframe tbody tr th {\n",
       "        vertical-align: top;\n",
       "    }\n",
       "\n",
       "    .dataframe thead th {\n",
       "        text-align: right;\n",
       "    }\n",
       "</style>\n",
       "<table border=\"1\" class=\"dataframe\">\n",
       "  <thead>\n",
       "    <tr style=\"text-align: right;\">\n",
       "      <th></th>\n",
       "      <th>Borough</th>\n",
       "      <th>Rent per sqm</th>\n",
       "      <th>Average Price per sqm</th>\n",
       "      <th>Area</th>\n",
       "      <th>Population Density</th>\n",
       "      <th>Latitude</th>\n",
       "      <th>Longitude</th>\n",
       "      <th>Venue Count</th>\n",
       "      <th>Cluster</th>\n",
       "    </tr>\n",
       "  </thead>\n",
       "  <tbody>\n",
       "    <tr>\n",
       "      <th>0</th>\n",
       "      <td>Inner City</td>\n",
       "      <td>12.9</td>\n",
       "      <td>4642.891689</td>\n",
       "      <td>1.16</td>\n",
       "      <td>3287</td>\n",
       "      <td>47.07249</td>\n",
       "      <td>15.44114</td>\n",
       "      <td>96</td>\n",
       "      <td>1</td>\n",
       "    </tr>\n",
       "  </tbody>\n",
       "</table>\n",
       "</div>"
      ],
      "text/plain": [
       "      Borough  Rent per sqm  Average Price per sqm  Area  Population Density  \\\n",
       "0  Inner City          12.9            4642.891689  1.16                3287   \n",
       "\n",
       "   Latitude  Longitude  Venue Count  Cluster  \n",
       "0  47.07249   15.44114           96        1  "
      ]
     },
     "execution_count": 34,
     "metadata": {},
     "output_type": "execute_result"
    }
   ],
   "source": [
    "finalTable[finalTable['Cluster']==1]"
   ]
  },
  {
   "cell_type": "code",
   "execution_count": 35,
   "metadata": {},
   "outputs": [
    {
     "data": {
      "text/html": [
       "<div>\n",
       "<style scoped>\n",
       "    .dataframe tbody tr th:only-of-type {\n",
       "        vertical-align: middle;\n",
       "    }\n",
       "\n",
       "    .dataframe tbody tr th {\n",
       "        vertical-align: top;\n",
       "    }\n",
       "\n",
       "    .dataframe thead th {\n",
       "        text-align: right;\n",
       "    }\n",
       "</style>\n",
       "<table border=\"1\" class=\"dataframe\">\n",
       "  <thead>\n",
       "    <tr style=\"text-align: right;\">\n",
       "      <th></th>\n",
       "      <th>Borough</th>\n",
       "      <th>Rent per sqm</th>\n",
       "      <th>Average Price per sqm</th>\n",
       "      <th>Area</th>\n",
       "      <th>Population Density</th>\n",
       "      <th>Latitude</th>\n",
       "      <th>Longitude</th>\n",
       "      <th>Venue Count</th>\n",
       "      <th>Cluster</th>\n",
       "    </tr>\n",
       "  </thead>\n",
       "  <tbody>\n",
       "    <tr>\n",
       "      <th>11</th>\n",
       "      <td>Andritz</td>\n",
       "      <td>11.64</td>\n",
       "      <td>2588.170448</td>\n",
       "      <td>18.47</td>\n",
       "      <td>1023</td>\n",
       "      <td>47.11285</td>\n",
       "      <td>15.42132</td>\n",
       "      <td>28</td>\n",
       "      <td>2</td>\n",
       "    </tr>\n",
       "    <tr>\n",
       "      <th>12</th>\n",
       "      <td>Gösting</td>\n",
       "      <td>10.48</td>\n",
       "      <td>2156.959991</td>\n",
       "      <td>10.83</td>\n",
       "      <td>1003</td>\n",
       "      <td>47.10659</td>\n",
       "      <td>15.39359</td>\n",
       "      <td>12</td>\n",
       "      <td>2</td>\n",
       "    </tr>\n",
       "    <tr>\n",
       "      <th>15</th>\n",
       "      <td>Straßgang</td>\n",
       "      <td>12.85</td>\n",
       "      <td>2344.702614</td>\n",
       "      <td>11.75</td>\n",
       "      <td>1265</td>\n",
       "      <td>47.03078</td>\n",
       "      <td>15.40277</td>\n",
       "      <td>26</td>\n",
       "      <td>2</td>\n",
       "    </tr>\n",
       "  </tbody>\n",
       "</table>\n",
       "</div>"
      ],
      "text/plain": [
       "      Borough  Rent per sqm  Average Price per sqm   Area  Population Density  \\\n",
       "11    Andritz         11.64            2588.170448  18.47                1023   \n",
       "12    Gösting         10.48            2156.959991  10.83                1003   \n",
       "15  Straßgang         12.85            2344.702614  11.75                1265   \n",
       "\n",
       "    Latitude  Longitude  Venue Count  Cluster  \n",
       "11  47.11285   15.42132           28        2  \n",
       "12  47.10659   15.39359           12        2  \n",
       "15  47.03078   15.40277           26        2  "
      ]
     },
     "execution_count": 35,
     "metadata": {},
     "output_type": "execute_result"
    }
   ],
   "source": [
    "finalTable[finalTable['Cluster']==2]"
   ]
  },
  {
   "cell_type": "code",
   "execution_count": 36,
   "metadata": {},
   "outputs": [
    {
     "data": {
      "text/html": [
       "<div>\n",
       "<style scoped>\n",
       "    .dataframe tbody tr th:only-of-type {\n",
       "        vertical-align: middle;\n",
       "    }\n",
       "\n",
       "    .dataframe tbody tr th {\n",
       "        vertical-align: top;\n",
       "    }\n",
       "\n",
       "    .dataframe thead th {\n",
       "        text-align: right;\n",
       "    }\n",
       "</style>\n",
       "<table border=\"1\" class=\"dataframe\">\n",
       "  <thead>\n",
       "    <tr style=\"text-align: right;\">\n",
       "      <th></th>\n",
       "      <th>Borough</th>\n",
       "      <th>Rent per sqm</th>\n",
       "      <th>Average Price per sqm</th>\n",
       "      <th>Area</th>\n",
       "      <th>Population Density</th>\n",
       "      <th>Latitude</th>\n",
       "      <th>Longitude</th>\n",
       "      <th>Venue Count</th>\n",
       "      <th>Cluster</th>\n",
       "    </tr>\n",
       "  </thead>\n",
       "  <tbody>\n",
       "    <tr>\n",
       "      <th>1</th>\n",
       "      <td>St. Leonhard</td>\n",
       "      <td>11.32</td>\n",
       "      <td>2221.927651</td>\n",
       "      <td>1.83</td>\n",
       "      <td>8650</td>\n",
       "      <td>47.06945</td>\n",
       "      <td>15.45639</td>\n",
       "      <td>20</td>\n",
       "      <td>3</td>\n",
       "    </tr>\n",
       "    <tr>\n",
       "      <th>3</th>\n",
       "      <td>Lend</td>\n",
       "      <td>9.70</td>\n",
       "      <td>2061.288869</td>\n",
       "      <td>3.70</td>\n",
       "      <td>8162</td>\n",
       "      <td>47.07944</td>\n",
       "      <td>15.41866</td>\n",
       "      <td>6</td>\n",
       "      <td>3</td>\n",
       "    </tr>\n",
       "    <tr>\n",
       "      <th>5</th>\n",
       "      <td>Jakomini</td>\n",
       "      <td>10.50</td>\n",
       "      <td>2049.535035</td>\n",
       "      <td>4.06</td>\n",
       "      <td>7979</td>\n",
       "      <td>47.05714</td>\n",
       "      <td>15.45063</td>\n",
       "      <td>7</td>\n",
       "      <td>3</td>\n",
       "    </tr>\n",
       "  </tbody>\n",
       "</table>\n",
       "</div>"
      ],
      "text/plain": [
       "        Borough  Rent per sqm  Average Price per sqm  Area  \\\n",
       "1  St. Leonhard         11.32            2221.927651  1.83   \n",
       "3          Lend          9.70            2061.288869  3.70   \n",
       "5      Jakomini         10.50            2049.535035  4.06   \n",
       "\n",
       "   Population Density  Latitude  Longitude  Venue Count  Cluster  \n",
       "1                8650  47.06945   15.45639           20        3  \n",
       "3                8162  47.07944   15.41866            6        3  \n",
       "5                7979  47.05714   15.45063            7        3  "
      ]
     },
     "execution_count": 36,
     "metadata": {},
     "output_type": "execute_result"
    }
   ],
   "source": [
    "finalTable[finalTable['Cluster']==3]"
   ]
  },
  {
   "cell_type": "code",
   "execution_count": 37,
   "metadata": {},
   "outputs": [
    {
     "data": {
      "text/html": [
       "<div>\n",
       "<style scoped>\n",
       "    .dataframe tbody tr th:only-of-type {\n",
       "        vertical-align: middle;\n",
       "    }\n",
       "\n",
       "    .dataframe tbody tr th {\n",
       "        vertical-align: top;\n",
       "    }\n",
       "\n",
       "    .dataframe thead th {\n",
       "        text-align: right;\n",
       "    }\n",
       "</style>\n",
       "<table border=\"1\" class=\"dataframe\">\n",
       "  <thead>\n",
       "    <tr style=\"text-align: right;\">\n",
       "      <th></th>\n",
       "      <th>Borough</th>\n",
       "      <th>Rent per sqm</th>\n",
       "      <th>Average Price per sqm</th>\n",
       "      <th>Area</th>\n",
       "      <th>Population Density</th>\n",
       "      <th>Latitude</th>\n",
       "      <th>Longitude</th>\n",
       "      <th>Venue Count</th>\n",
       "      <th>Cluster</th>\n",
       "    </tr>\n",
       "  </thead>\n",
       "  <tbody>\n",
       "    <tr>\n",
       "      <th>7</th>\n",
       "      <td>St. Peter</td>\n",
       "      <td>11.62</td>\n",
       "      <td>3388.475845</td>\n",
       "      <td>8.86</td>\n",
       "      <td>1655</td>\n",
       "      <td>47.05155</td>\n",
       "      <td>15.47759</td>\n",
       "      <td>10</td>\n",
       "      <td>4</td>\n",
       "    </tr>\n",
       "    <tr>\n",
       "      <th>9</th>\n",
       "      <td>Ries</td>\n",
       "      <td>10.15</td>\n",
       "      <td>2967.948923</td>\n",
       "      <td>10.16</td>\n",
       "      <td>573</td>\n",
       "      <td>47.08078</td>\n",
       "      <td>15.48768</td>\n",
       "      <td>7</td>\n",
       "      <td>4</td>\n",
       "    </tr>\n",
       "    <tr>\n",
       "      <th>10</th>\n",
       "      <td>Mariatrost</td>\n",
       "      <td>9.83</td>\n",
       "      <td>3196.892857</td>\n",
       "      <td>13.99</td>\n",
       "      <td>678</td>\n",
       "      <td>47.10747</td>\n",
       "      <td>15.48955</td>\n",
       "      <td>9</td>\n",
       "      <td>4</td>\n",
       "    </tr>\n",
       "  </tbody>\n",
       "</table>\n",
       "</div>"
      ],
      "text/plain": [
       "       Borough  Rent per sqm  Average Price per sqm   Area  \\\n",
       "7    St. Peter         11.62            3388.475845   8.86   \n",
       "9         Ries         10.15            2967.948923  10.16   \n",
       "10  Mariatrost          9.83            3196.892857  13.99   \n",
       "\n",
       "    Population Density  Latitude  Longitude  Venue Count  Cluster  \n",
       "7                 1655  47.05155   15.47759           10        4  \n",
       "9                  573  47.08078   15.48768            7        4  \n",
       "10                 678  47.10747   15.48955            9        4  "
      ]
     },
     "execution_count": 37,
     "metadata": {},
     "output_type": "execute_result"
    }
   ],
   "source": [
    "finalTable[finalTable['Cluster']==4]"
   ]
  },
  {
   "cell_type": "markdown",
   "metadata": {},
   "source": [
    "### 4.2 Compare Averages of Clusters"
   ]
  },
  {
   "cell_type": "code",
   "execution_count": 38,
   "metadata": {},
   "outputs": [
    {
     "data": {
      "text/html": [
       "<div>\n",
       "<style scoped>\n",
       "    .dataframe tbody tr th:only-of-type {\n",
       "        vertical-align: middle;\n",
       "    }\n",
       "\n",
       "    .dataframe tbody tr th {\n",
       "        vertical-align: top;\n",
       "    }\n",
       "\n",
       "    .dataframe thead th {\n",
       "        text-align: right;\n",
       "    }\n",
       "</style>\n",
       "<table border=\"1\" class=\"dataframe\">\n",
       "  <thead>\n",
       "    <tr style=\"text-align: right;\">\n",
       "      <th></th>\n",
       "      <th>Rent per sqm</th>\n",
       "      <th>Average Price per sqm</th>\n",
       "      <th>Area</th>\n",
       "      <th>Population Density</th>\n",
       "      <th>Venue Count</th>\n",
       "    </tr>\n",
       "    <tr>\n",
       "      <th>Cluster</th>\n",
       "      <th></th>\n",
       "      <th></th>\n",
       "      <th></th>\n",
       "      <th></th>\n",
       "      <th></th>\n",
       "    </tr>\n",
       "  </thead>\n",
       "  <tbody>\n",
       "    <tr>\n",
       "      <th>0</th>\n",
       "      <td>10.940000</td>\n",
       "      <td>2566.147817</td>\n",
       "      <td>6.108571</td>\n",
       "      <td>2941.285714</td>\n",
       "      <td>18.142857</td>\n",
       "    </tr>\n",
       "    <tr>\n",
       "      <th>1</th>\n",
       "      <td>12.900000</td>\n",
       "      <td>4642.891689</td>\n",
       "      <td>1.160000</td>\n",
       "      <td>3287.000000</td>\n",
       "      <td>96.000000</td>\n",
       "    </tr>\n",
       "    <tr>\n",
       "      <th>2</th>\n",
       "      <td>11.656667</td>\n",
       "      <td>2363.277684</td>\n",
       "      <td>13.683333</td>\n",
       "      <td>1097.000000</td>\n",
       "      <td>22.000000</td>\n",
       "    </tr>\n",
       "    <tr>\n",
       "      <th>3</th>\n",
       "      <td>10.506667</td>\n",
       "      <td>2110.917185</td>\n",
       "      <td>3.196667</td>\n",
       "      <td>8263.666667</td>\n",
       "      <td>11.000000</td>\n",
       "    </tr>\n",
       "    <tr>\n",
       "      <th>4</th>\n",
       "      <td>10.533333</td>\n",
       "      <td>3184.439208</td>\n",
       "      <td>11.003333</td>\n",
       "      <td>968.666667</td>\n",
       "      <td>8.666667</td>\n",
       "    </tr>\n",
       "  </tbody>\n",
       "</table>\n",
       "</div>"
      ],
      "text/plain": [
       "         Rent per sqm  Average Price per sqm       Area  Population Density  \\\n",
       "Cluster                                                                       \n",
       "0           10.940000            2566.147817   6.108571         2941.285714   \n",
       "1           12.900000            4642.891689   1.160000         3287.000000   \n",
       "2           11.656667            2363.277684  13.683333         1097.000000   \n",
       "3           10.506667            2110.917185   3.196667         8263.666667   \n",
       "4           10.533333            3184.439208  11.003333          968.666667   \n",
       "\n",
       "         Venue Count  \n",
       "Cluster               \n",
       "0          18.142857  \n",
       "1          96.000000  \n",
       "2          22.000000  \n",
       "3          11.000000  \n",
       "4           8.666667  "
      ]
     },
     "execution_count": 38,
     "metadata": {},
     "output_type": "execute_result"
    }
   ],
   "source": [
    "df = finalTable[['Cluster','Rent per sqm', 'Average Price per sqm', 'Area', 'Population Density', 'Venue Count']]\n",
    "dfAvg = df[df['Cluster']==0].groupby('Cluster').mean()\n",
    "dfAvg = dfAvg.append(df[df['Cluster']==1].groupby('Cluster').mean())\n",
    "dfAvg = dfAvg.append(df[df['Cluster']==2].groupby('Cluster').mean())\n",
    "dfAvg = dfAvg.append(df[df['Cluster']==3].groupby('Cluster').mean())\n",
    "dfAvg = dfAvg.append(df[df['Cluster']==4].groupby('Cluster').mean())\n",
    "dfAvg"
   ]
  },
  {
   "cell_type": "markdown",
   "metadata": {},
   "source": [
    "## 5 Discussion and Conclusions <a name=\"conclusions\"></a>"
   ]
  },
  {
   "cell_type": "markdown",
   "metadata": {},
   "source": [
    "### 5.1 Interpretation of the Clusters"
   ]
  },
  {
   "cell_type": "markdown",
   "metadata": {},
   "source": [
    "The clusters are interpreted as follows:\n",
    "\n",
    "* Buy here! Affordable prices, moderate entertainment (dark green).\n",
    "* Rent here! Affordable rent, lively environment (light green).\n",
    "* Cheap but densely populated (orange).\n",
    "* Cheap rent but little entertainment (light red).\n",
    "* Simply expensive (dark red)."
   ]
  },
  {
   "cell_type": "code",
   "execution_count": 39,
   "metadata": {},
   "outputs": [],
   "source": [
    "finalTable['Recommendation'] = finalTable['Cluster']\n",
    "\n",
    "# After checking our results, we can set our recommendations\n",
    "for cluster in range(0,numClust):\n",
    "    tmpAvg = finalTable[finalTable['Cluster']==cluster].groupby('Cluster').mean()\n",
    "    #\n",
    "    rent  = tmpAvg.loc[cluster,'Rent per sqm']\n",
    "    venue = tmpAvg.loc[cluster,'Venue Count']\n",
    "    price = tmpAvg.loc[cluster,'Average Price per sqm']\n",
    "    popul = tmpAvg.loc[cluster,'Population Density']\n",
    "            \n",
    "    if rent<11 and venue>17:\n",
    "        # Rent here!\n",
    "        finalTable.loc[finalTable['Cluster']==cluster, 'Recommendation'] = 1\n",
    "    elif price<2400 and venue>20:\n",
    "        # Buy here!\n",
    "        finalTable.loc[finalTable['Cluster']==cluster, 'Recommendation'] = 2\n",
    "    elif popul > 8000:\n",
    "        # Cheap but densely populated.\n",
    "        finalTable.loc[finalTable['Cluster']==cluster, 'Recommendation'] = 3\n",
    "    elif rent<10.6 and venue<9:\n",
    "        # Cheap rent but little entertainment.\n",
    "        finalTable.loc[finalTable['Cluster']==cluster, 'Recommendation'] = 4\n",
    "    elif rent > 12:\n",
    "        # Simply Expensive.\n",
    "        finalTable.loc[finalTable['Cluster']==cluster, 'Recommendation'] = 5"
   ]
  },
  {
   "cell_type": "markdown",
   "metadata": {},
   "source": [
    "### 5.2 Cluster Map"
   ]
  },
  {
   "cell_type": "code",
   "execution_count": 40,
   "metadata": {},
   "outputs": [
    {
     "data": {
      "text/html": [
       "<div style=\"width:100%;\"><div style=\"position:relative;width:100%;height:0;padding-bottom:60%;\"><iframe src=\"data:text/html;charset=utf-8;base64,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\" style=\"position:absolute;width:100%;height:100%;left:0;top:0;border:none !important;\" allowfullscreen webkitallowfullscreen mozallowfullscreen></iframe></div></div>"
      ],
      "text/plain": [
       "<folium.folium.Map at 0x26cc42a5240>"
      ]
     },
     "execution_count": 40,
     "metadata": {},
     "output_type": "execute_result"
    }
   ],
   "source": [
    "#import matplotlib.cm as cm\n",
    "#import matplotlib.colors as colors\n",
    "#colors_array = cm.rainbow(np.linspace(0, 1, len(set(finalTable['Cluster']))+2))\n",
    "#rainbow = [colors.rgb2hex(i) for i in colors_array]\n",
    "\n",
    "\n",
    "mapGrazCluster = folium.Map(location=[locGraz.latitude, locGraz.longitude], zoom_start=12)\n",
    "\n",
    "for name, lat, lon, cluster, recomm in zip(finalTable['Borough'], finalTable['Latitude'], finalTable['Longitude'], finalTable['Cluster'], finalTable['Recommendation']):\n",
    "    label = folium.Popup(name, parse_html=True)\n",
    "    \n",
    "    # Add info with cluster interpretation\n",
    "    if recomm==1:\n",
    "        info = 'Rent here! Affordable rent, lively environment.'\n",
    "        infocolor = 'lightgreen'        \n",
    "    elif recomm==2:\n",
    "        info = 'Buy here! Affordable prices, moderate entertainment.'\n",
    "        infocolor = 'darkgreen'\n",
    "    elif recomm==3:\n",
    "        info = 'Cheap but densely populated.'\n",
    "        infocolor = 'orange'        \n",
    "    elif recomm==4:\n",
    "        info = 'Cheap rent but little entertainment.'\n",
    "        infocolor = 'red'\n",
    "    elif recomm==5:\n",
    "        info = 'Simply expensive.'\n",
    "        infocolor = 'darkred'\n",
    "    \n",
    "    # Mark the center of a borough\n",
    "    folium.CircleMarker(\n",
    "        [lat, lon],\n",
    "        popup = label,\n",
    "        radius = 10,\n",
    "        color = infocolor,\n",
    "        fill_color = infocolor,\n",
    "        fill=True,\n",
    "        fill_opacity = 0.7,\n",
    "        parse_html = False\n",
    "    ).add_to(mapGrazCluster)\n",
    "        \n",
    "    folium.Marker(\n",
    "        [lat, lon],\n",
    "        popup = info,\n",
    "        icon=folium.Icon(color = infocolor)\n",
    "    ).add_to(mapGrazCluster)\n",
    "\n",
    "# Show the map\n",
    "mapGrazCluster"
   ]
  },
  {
   "cell_type": "markdown",
   "metadata": {},
   "source": [
    "### 5.3 Discussion"
   ]
  },
  {
   "cell_type": "markdown",
   "metadata": {},
   "source": [
    "The final results look reasonable for a typical student city: the cluster \n",
    "of boroughs recommended for renting is the largest one consisting of \n",
    "7~boroughs.\n",
    "Furthermore, the inner city is not recommended for students, since it is\n",
    "too expensive and boroughs including or being close to transport hubs\n",
    "are cheap but densely populated.\n",
    "\n",
    "Cluster 2 is more expensive, less populated and only shows little vibrancy -- characteristics of the periphery. \n",
    "For cluster 4, on the other hand, realty prices are lower and it provides more entertainment -- a developing borough promising an increase in value.\n",
    "This shows that the choice of 5 clusters was necessary since a reduction to 4 clusters would group these two clusters."
   ]
  },
  {
   "cell_type": "markdown",
   "metadata": {},
   "source": [
    "### 5.4 Conclusions"
   ]
  },
  {
   "cell_type": "markdown",
   "metadata": {},
   "source": [
    "This data analysis project showed that a recommendation system\n",
    "for renting and buying apartments in Graz is generally feasible.\n",
    "The results are derived from an objective analysis, i.e. a clustering\n",
    "of similar characteristics, look reasonable and are based on freely \n",
    "available data.\n",
    "It is furthermore noteworthy that this approach can simply be\n",
    "applied to any other location provided the required information\n",
    "is available."
   ]
  }
 ],
 "metadata": {
  "kernelspec": {
   "display_name": "Python 3",
   "language": "python",
   "name": "python3"
  },
  "language_info": {
   "codemirror_mode": {
    "name": "ipython",
    "version": 3
   },
   "file_extension": ".py",
   "mimetype": "text/x-python",
   "name": "python",
   "nbconvert_exporter": "python",
   "pygments_lexer": "ipython3",
   "version": "3.7.3"
  }
 },
 "nbformat": 4,
 "nbformat_minor": 2
}
